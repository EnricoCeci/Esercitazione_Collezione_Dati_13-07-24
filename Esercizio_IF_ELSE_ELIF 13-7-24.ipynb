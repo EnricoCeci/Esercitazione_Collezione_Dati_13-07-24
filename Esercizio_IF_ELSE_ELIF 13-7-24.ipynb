{
  "nbformat": 4,
  "nbformat_minor": 0,
  "metadata": {
    "colab": {
      "provenance": [],
      "authorship_tag": "ABX9TyO/j+39f2Ner4F0U+oVA2RE",
      "include_colab_link": true
    },
    "kernelspec": {
      "name": "python3",
      "display_name": "Python 3"
    },
    "language_info": {
      "name": "python"
    }
  },
  "cells": [
    {
      "cell_type": "markdown",
      "metadata": {
        "id": "view-in-github",
        "colab_type": "text"
      },
      "source": [
        "<a href=\"https://colab.research.google.com/github/EnricoCeci/Esercizi-Profession-AI/blob/main/Esercizio_IF_ELSE_ELIF%2013-7-24.ipynb\" target=\"_parent\"><img src=\"https://colab.research.google.com/assets/colab-badge.svg\" alt=\"Open In Colab\"/></a>"
      ]
    },
    {
      "cell_type": "code",
      "execution_count": 2,
      "metadata": {
        "id": "1LnaGhZL60xZ",
        "colab": {
          "base_uri": "https://localhost:8080/"
        },
        "outputId": "4da8e959-4f60-403c-ad8b-c2742857748b"
      },
      "outputs": [
        {
          "output_type": "stream",
          "name": "stdout",
          "text": [
            "Inserisci un numero:18\n",
            "Weird\n"
          ]
        }
      ],
      "source": [
        "n = int(input(\"Inserisci un numero:\"))\n",
        "\n",
        "if n%2==1:\n",
        "    print(\"Weird\")\n",
        "elif n%2==0 and n>=2 and n<=5:\n",
        "    print(\"Not Weird\")\n",
        "elif n%2==0 and n>=6 and n<=20:\n",
        "    print(\"Weird\")\n",
        "elif n%2==0 and n>20:\n",
        "    print(\"Not Weird\")"
      ]
    },
    {
      "cell_type": "code",
      "source": [],
      "metadata": {
        "id": "pb1fjd4eE1gY"
      },
      "execution_count": null,
      "outputs": []
    }
  ]
}