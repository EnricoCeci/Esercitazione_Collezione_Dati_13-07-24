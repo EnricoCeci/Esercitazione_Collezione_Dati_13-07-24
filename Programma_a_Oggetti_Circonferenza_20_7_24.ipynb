{
  "nbformat": 4,
  "nbformat_minor": 0,
  "metadata": {
    "colab": {
      "provenance": [],
      "authorship_tag": "ABX9TyPksdQ5xecOpzi6kyEKNsRH",
      "include_colab_link": true
    },
    "kernelspec": {
      "name": "python3",
      "display_name": "Python 3"
    },
    "language_info": {
      "name": "python"
    }
  },
  "cells": [
    {
      "cell_type": "markdown",
      "metadata": {
        "id": "view-in-github",
        "colab_type": "text"
      },
      "source": [
        "<a href=\"https://colab.research.google.com/github/EnricoCeci/Esercizi-Profession-AI/blob/main/Programma_a_Oggetti_Circonferenza_20_7_24.ipynb\" target=\"_parent\"><img src=\"https://colab.research.google.com/assets/colab-badge.svg\" alt=\"Open In Colab\"/></a>"
      ]
    },
    {
      "cell_type": "code",
      "execution_count": 15,
      "metadata": {
        "colab": {
          "base_uri": "https://localhost:8080/"
        },
        "id": "dIfW7kM246cW",
        "outputId": "90b35d3b-b881-4c96-978e-bea8e2fe6fb1"
      },
      "outputs": [
        {
          "output_type": "stream",
          "name": "stdout",
          "text": [
            "Il raggio del cerchio è pari a 5\n",
            "Il diametro del cerchio di raggio 5, è pari a 10\n",
            "L'area del cerchio di raggio 5,  è pari a 78.5\n",
            "La circonferenza del cerchio di raggio 5,  è pari a 31.400000000000002\n"
          ]
        }
      ],
      "source": [
        "class Circle:\n",
        "\n",
        "    \"\"\"\n",
        "    Questa classe rappresenta un cerchio\n",
        "\n",
        "    \"\"\"\n",
        "\n",
        "    def __init__(self, r):\n",
        "\n",
        "        \"\"\"\n",
        "        Questo metodo inizializza il raggio del cerchio\n",
        "\n",
        "        \"\"\"\n",
        "        self._r = r\n",
        "\n",
        "\n",
        "    def diameter(self):\n",
        "\n",
        "        \"\"\"\n",
        "        Questo metodo calcola il diametro del cerchio\n",
        "\n",
        "        \"\"\"\n",
        "\n",
        "        return self._r * 2\n",
        "\n",
        "    def area(self):\n",
        "\n",
        "        \"\"\"\n",
        "        Questo metodo calcola l'area del cerchio\n",
        "\n",
        "        \"\"\"\n",
        "\n",
        "        return 3.14 * self._r ** 2\n",
        "\n",
        "\n",
        "    def circumference(self):\n",
        "\n",
        "        \"\"\"\n",
        "        Questo metodo calcola la circonferenza del cerchio\n",
        "\n",
        "        \"\"\"\n",
        "\n",
        "        return self._r * 2 * 3.14\n",
        "\n",
        "circle = Circle(5)\n",
        "\n",
        "print(f\"Il raggio del cerchio è pari a {circle._r}\")\n",
        "print(f\"Il diametro del cerchio di raggio {circle._r}, \"\n",
        "f\"è pari a {circle.diameter()}\")\n",
        "print(f\"L'area del cerchio di raggio {circle._r}, \"\n",
        "f\" è pari a {circle.area()}\")\n",
        "print(f\"La circonferenza del cerchio di raggio {circle._r}, \"\n",
        "f\" è pari a {circle.circumference()}\")"
      ]
    },
    {
      "cell_type": "code",
      "source": [],
      "metadata": {
        "id": "tfBHZmQd7Nun"
      },
      "execution_count": null,
      "outputs": []
    }
  ]
}