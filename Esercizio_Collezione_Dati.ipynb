{
  "nbformat": 4,
  "nbformat_minor": 0,
  "metadata": {
    "colab": {
      "provenance": [],
      "authorship_tag": "ABX9TyMtpGsj7wjNOnCdsLlcaiOG",
      "include_colab_link": true
    },
    "kernelspec": {
      "name": "python3",
      "display_name": "Python 3"
    },
    "language_info": {
      "name": "python"
    }
  },
  "cells": [
    {
      "cell_type": "markdown",
      "metadata": {
        "id": "view-in-github",
        "colab_type": "text"
      },
      "source": [
        "<a href=\"https://colab.research.google.com/github/EnricoCeci/Esercitazione_Collezione_Dati_13-07-24/blob/main/Esercizio_Collezione_Dati.ipynb\" target=\"_parent\"><img src=\"https://colab.research.google.com/assets/colab-badge.svg\" alt=\"Open In Colab\"/></a>"
      ]
    },
    {
      "cell_type": "markdown",
      "source": [
        "CREO IL DIZIONARIO"
      ],
      "metadata": {
        "id": "fukq3hWLl-Ux"
      }
    },
    {
      "cell_type": "code",
      "source": [
        "studs = {\"Giuseppe Gullo\":[(\"Mat\", 9, 0), (\"Ita\", 7, 3), (\"Ing\", 7.5, 4), (\"Sto\", 7.5, 4), (\"Geo\", 5, 7)],\n",
        "               \"Antonio Barbera\":[(\"Mat\", 8, 1), (\"Ita\",6 , 1), (\"Ing\", 9.5, 0), (\"Sto\", 8, 2), (\"Geo\", 8, 1)],\n",
        "               \"Emiliano Ruozzo\":[(\"Mat\", 7.5, 2), (\"Ita\", 6, 2), (\"Ing\", 4, 3), (\"Sto\", 8.5, 4), (\"Geo\", 8, 2)]}"
      ],
      "metadata": {
        "id": "Sx_vhSujmF2i"
      },
      "execution_count": null,
      "outputs": []
    },
    {
      "cell_type": "markdown",
      "source": [
        "LA RUNNO PER FARLA RICONOSCERE"
      ],
      "metadata": {
        "id": "BweTZ2ZH3t1n"
      }
    },
    {
      "cell_type": "code",
      "source": [
        "studs"
      ],
      "metadata": {
        "colab": {
          "base_uri": "https://localhost:8080/"
        },
        "id": "ckyNISnftDT4",
        "outputId": "094be933-9411-40a6-cc0b-b8691c27fd33"
      },
      "execution_count": null,
      "outputs": [
        {
          "output_type": "execute_result",
          "data": {
            "text/plain": [
              "{'Giuseppe Gullo': [('Mat', 9, 0),\n",
              "  ('Ita', 7, 3),\n",
              "  ('Ing', 7.5, 4),\n",
              "  ('Sto', 7.5, 4),\n",
              "  ('Geo', 5, 7)],\n",
              " 'Antonio Barbera': [('Mat', 8, 1),\n",
              "  ('Ita', 6, 1),\n",
              "  ('Ing', 9.5, 0),\n",
              "  ('Sto', 8, 2),\n",
              "  ('Geo', 8, 1)],\n",
              " 'Emiliano Ruozzo': [('Mat', 7.5, 2),\n",
              "  ('Ita', 6, 2),\n",
              "  ('Ing', 4, 3),\n",
              "  ('Sto', 8.5, 4),\n",
              "  ('Geo', 8, 2)]}"
            ]
          },
          "metadata": {},
          "execution_count": 11
        }
      ]
    },
    {
      "cell_type": "code",
      "source": [
        "#AGGIUNGO LA NUOVA CHIAVE ALBERT EINSTEIN CON LA FORMILA DEI DIZIONARI PER LE NUOVE CHIAVI: nome_variabile[nome chiave] = [valori che voglio aggiungere,in questo caso sottoforma di tuple]#"
      ],
      "metadata": {
        "id": "AJSHU7ug4I0h"
      },
      "execution_count": 30,
      "outputs": []
    },
    {
      "cell_type": "code",
      "source": [
        "studs[\"Albert Einstein\"] = [(\"Mat\", 10, 0), (\"Ita\", 10, 0), (\"Ing\", 10, 0), (\"Sto\", 10, 0), (\"Geo\", 10, 0)]"
      ],
      "metadata": {
        "id": "ucQf2VjWsH8u"
      },
      "execution_count": null,
      "outputs": []
    },
    {
      "cell_type": "markdown",
      "source": [
        "RUNNO LA NUOVA VARIABILE CON ENISTEIN AGGIUNTO"
      ],
      "metadata": {
        "id": "TuApLD0-5IXz"
      }
    },
    {
      "cell_type": "code",
      "source": [
        "studs"
      ],
      "metadata": {
        "colab": {
          "base_uri": "https://localhost:8080/"
        },
        "id": "CpaxiI0mtVdG",
        "outputId": "88710e5f-bbe6-4fbd-c7cc-d671ca957dec"
      },
      "execution_count": null,
      "outputs": [
        {
          "output_type": "execute_result",
          "data": {
            "text/plain": [
              "{'Giuseppe Gullo': [('Mat', 9, 0),\n",
              "  ('Ita', 7, 3),\n",
              "  ('Ing', 7.5, 4),\n",
              "  ('Sto', 7.5, 4),\n",
              "  ('Geo', 5, 7)],\n",
              " 'Antonio Barbera': [('Mat', 8, 1),\n",
              "  ('Ita', 6, 1),\n",
              "  ('Ing', 9.5, 0),\n",
              "  ('Sto', 8, 2),\n",
              "  ('Geo', 8, 1)],\n",
              " 'Emiliano Ruozzo': [('Mat', 7.5, 2),\n",
              "  ('Ita', 6, 2),\n",
              "  ('Ing', 4, 3),\n",
              "  ('Sto', 8.5, 4),\n",
              "  ('Geo', 8, 2)],\n",
              " 'Albert Einstein': [('Mat', 10, 0),\n",
              "  ('Ita', 10, 0),\n",
              "  ('Ing', 10, 0),\n",
              "  ('Sto', 10, 0),\n",
              "  ('Geo', 10, 0)]}"
            ]
          },
          "metadata": {},
          "execution_count": 13
        }
      ]
    },
    {
      "cell_type": "markdown",
      "source": [
        "AGGIUNGO FISICA CON APPEND"
      ],
      "metadata": {
        "id": "fUCadD7E5YSV"
      }
    },
    {
      "cell_type": "code",
      "source": [
        "studs[\"Giuseppe Gullo\"].append((\"Fis\", 9.5, 0))\n",
        "studs[\"Antonio Barbera\"].append((\"Fis\", 8, 1))\n",
        "studs[\"Emiliano Ruozzo\"].append((\"Fis\", 8, 3))\n",
        "studs[\"Albert Einstein\"].append((\"Fis\", 10, 0))"
      ],
      "metadata": {
        "id": "HtLf9Q0RtY9t"
      },
      "execution_count": null,
      "outputs": []
    },
    {
      "cell_type": "markdown",
      "source": [
        "RUNNO CON LA NUOVA MATERIA"
      ],
      "metadata": {
        "id": "7BUYLpFv5eZj"
      }
    },
    {
      "cell_type": "code",
      "source": [
        "studs"
      ],
      "metadata": {
        "colab": {
          "base_uri": "https://localhost:8080/"
        },
        "id": "UjSg13OauMfI",
        "outputId": "96598909-c165-437d-da7b-f2a5680f3b0a"
      },
      "execution_count": null,
      "outputs": [
        {
          "output_type": "execute_result",
          "data": {
            "text/plain": [
              "{'Giuseppe Gullo': [('Mat', 9, 0),\n",
              "  ('Ita', 7, 3),\n",
              "  ('Ing', 7.5, 4),\n",
              "  ('Sto', 7.5, 4),\n",
              "  ('Geo', 5, 7),\n",
              "  ('Fis', 9.5, 0)],\n",
              " 'Antonio Barbera': [('Mat', 8, 1),\n",
              "  ('Ita', 6, 1),\n",
              "  ('Ing', 9.5, 0),\n",
              "  ('Sto', 8, 2),\n",
              "  ('Geo', 8, 1),\n",
              "  ('Fis', 8, 1)],\n",
              " 'Emiliano Ruozzo': [('Mat', 7.5, 2),\n",
              "  ('Ita', 6, 2),\n",
              "  ('Ing', 4, 3),\n",
              "  ('Sto', 8.5, 4),\n",
              "  ('Geo', 8, 2),\n",
              "  ('Fis', 8, 3)],\n",
              " 'Albert Einstein': [('Mat', 10, 0),\n",
              "  ('Ita', 10, 0),\n",
              "  ('Ing', 10, 0),\n",
              "  ('Sto', 10, 0),\n",
              "  ('Geo', 10, 0),\n",
              "  ('Fis', 10, 0)]}"
            ]
          },
          "metadata": {},
          "execution_count": 17
        }
      ]
    },
    {
      "cell_type": "markdown",
      "source": [
        "STAMPO LA TUPLA USANDO L'INDEXING E NELLA PRIMA PARENTESI METTO LA CHIAVE E POI NELLA SECONDA METTO L'INDICE DELLA TUPLA CHE VOGLIO ESTRARRE"
      ],
      "metadata": {
        "id": "QVPaR6Ir52aY"
      }
    },
    {
      "cell_type": "code",
      "source": [
        "studs[\"Giuseppe Gullo\"][0]"
      ],
      "metadata": {
        "colab": {
          "base_uri": "https://localhost:8080/"
        },
        "id": "bCeh0XHbwu_p",
        "outputId": "31c09321-a64b-44d6-8a71-97a89a4d1af4"
      },
      "execution_count": null,
      "outputs": [
        {
          "output_type": "execute_result",
          "data": {
            "text/plain": [
              "('Mat', 9, 0)"
            ]
          },
          "metadata": {},
          "execution_count": 21
        }
      ]
    },
    {
      "cell_type": "markdown",
      "source": [
        "STAMPO LA TUPLA USANDO L'INDEXING E NELLA PRIMA PARENTESI METTO LA CHIAVE E POI NELLA SECONDA METTO L'INDICE DELLA TUPLA CHE VOGLIO ESTRARRE"
      ],
      "metadata": {
        "id": "6nhMRsa-6IB3"
      }
    },
    {
      "cell_type": "code",
      "source": [
        "studs[\"Emiliano Ruozzo\"][2]"
      ],
      "metadata": {
        "colab": {
          "base_uri": "https://localhost:8080/"
        },
        "id": "chl1kzsmxSqr",
        "outputId": "0143d3ba-70a7-493a-a405-f636a1efa93a"
      },
      "execution_count": null,
      "outputs": [
        {
          "output_type": "execute_result",
          "data": {
            "text/plain": [
              "('Ing', 4, 3)"
            ]
          },
          "metadata": {},
          "execution_count": 23
        }
      ]
    },
    {
      "cell_type": "markdown",
      "source": [
        "STAMPO IL VOTO CHE MI INTERESSA USANDO L'INDEXING E NELLA PRIMA PARENTESI METTO LA CHIAVE E POI NELLA SECONDA METTO L'INDICE DELLA TUPLA CHE VOGLIO ESTRARRE E NELLA TERZA PARENTESI QUADRA L'INDICE DEL VALORE CHE MI INTERESSA"
      ],
      "metadata": {
        "id": "ETReGWeo6KuR"
      }
    },
    {
      "cell_type": "code",
      "source": [
        "studs[\"Antonio Barbera\"][4][1]"
      ],
      "metadata": {
        "colab": {
          "base_uri": "https://localhost:8080/"
        },
        "id": "UjaUEjwPy9vO",
        "outputId": "d19a7430-191b-4f5b-d23d-460c13d3e4b2"
      },
      "execution_count": null,
      "outputs": [
        {
          "output_type": "execute_result",
          "data": {
            "text/plain": [
              "8"
            ]
          },
          "metadata": {},
          "execution_count": 25
        }
      ]
    },
    {
      "cell_type": "code",
      "source": [],
      "metadata": {
        "id": "gjwC5jeXz0_J"
      },
      "execution_count": null,
      "outputs": []
    }
  ]
}