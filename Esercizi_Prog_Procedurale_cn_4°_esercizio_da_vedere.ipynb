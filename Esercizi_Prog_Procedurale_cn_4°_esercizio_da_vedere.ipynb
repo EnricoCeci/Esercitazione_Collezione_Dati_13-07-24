{
  "nbformat": 4,
  "nbformat_minor": 0,
  "metadata": {
    "colab": {
      "provenance": [],
      "authorship_tag": "ABX9TyMB9IL5A4TFxWvfZVIRcfbW",
      "include_colab_link": true
    },
    "kernelspec": {
      "name": "python3",
      "display_name": "Python 3"
    },
    "language_info": {
      "name": "python"
    }
  },
  "cells": [
    {
      "cell_type": "markdown",
      "metadata": {
        "id": "view-in-github",
        "colab_type": "text"
      },
      "source": [
        "<a href=\"https://colab.research.google.com/github/EnricoCeci/Esercizi-Profession-AI/blob/main/Esercizi_Prog_Procedurale_cn_4%C2%B0_esercizio_da_vedere.ipynb\" target=\"_parent\"><img src=\"https://colab.research.google.com/assets/colab-badge.svg\" alt=\"Open In Colab\"/></a>"
      ]
    },
    {
      "cell_type": "code",
      "execution_count": 5,
      "metadata": {
        "colab": {
          "base_uri": "https://localhost:8080/"
        },
        "id": "8y71JekytMwB",
        "outputId": "6100ea31-1d5f-4275-89c4-27cea5d8d048"
      },
      "outputs": [
        {
          "output_type": "stream",
          "name": "stdout",
          "text": [
            "Inserisci raggio: 10\n",
            "L'area del cerchio è 314.0\n"
          ]
        }
      ],
      "source": [
        "\"ESERCIZI FATTI IL 20 LUGLIO ANCHE SE SI RIFERISCONO AD ARGOMENTO STUDIATO IL 14 LUGLIO\"\n",
        "\n",
        "\"ESERCIZIO 1 - AREA DEL CERCHIO\"\n",
        "\"Definisco la funzione\"\n",
        "\n",
        "def compute_area_circle(radius):\n",
        "  return 3.14*(radius**2)\n",
        "\n",
        "\"Definisco l'argomento che inserirò nella funzione quando andrò a richiamarla per servirmene\"\n",
        "radius = float(input(\"Inserisci raggio: \"))\n",
        "\n",
        "\"Chiamo la funzione per farle calcolare l'area, e quindi come a scuola, area = ..., solo ke invece di mettere la formula metto la funzione ke ho definito prima\"\n",
        "area = compute_area_circle(radius)\n",
        "print(f\"L'area del cerchio è {area}\")\n"
      ]
    },
    {
      "cell_type": "code",
      "source": [
        "\"ESERCIZIO 2 - ANNI BISESTILI\"\n",
        "\n",
        "def is_leap(year):\n",
        "\n",
        "    leap = False\n",
        "\n",
        "    #Qui scrivo le condizioni della consegna\n",
        "    if year % 4 == 0:\n",
        "        if year % 100 == 0:\n",
        "            if year % 400 == 0:\n",
        "              #Se sono soddisfatte tutte e tre le condizioni allora l'anno è bisestile\n",
        "                leap = True\n",
        "\n",
        "  #Qui metto l'else per cui se l'anno è divisibile per 4 ma non è divisibile per 100 allora anche in questo caso è bisestile\n",
        "        else:\n",
        "            leap = True\n",
        "\n",
        "    return leap\n",
        "\n",
        "year = int(input(\"Inserisci anno: \"))\n",
        "leap = is_leap(year)\n",
        "\n",
        "if leap:\n",
        "    print(f\"{year} è bisestile\")\n",
        "else:\n",
        "    print(f\"{year} non è bisestile\")"
      ],
      "metadata": {
        "colab": {
          "base_uri": "https://localhost:8080/"
        },
        "id": "RnO92UMpuRtT",
        "outputId": "5a0e012b-13d6-47e8-aefb-be14f6a16620"
      },
      "execution_count": 13,
      "outputs": [
        {
          "output_type": "stream",
          "name": "stdout",
          "text": [
            "Inserisci anno: 2019\n",
            "2019 non è bisestile\n"
          ]
        }
      ]
    },
    {
      "cell_type": "code",
      "source": [
        "#ESERCIZIO 3 - ANAGRAMMI\n",
        "def are_anagrams(word1, word2):\n",
        "  #prima di tutto gli dico che se la lunghezza ddelle parole è diversa allora mi da false perché non pssn esse anagrammi\n",
        "    if len(word1) != len(word2):\n",
        "        return False\n",
        "\n",
        "  #Creo una lista di caratteri che compongono la prima parola\n",
        "    word1_list = list(word1)\n",
        "\n",
        "#iteriamo su ogni carattere della seconda parola\n",
        "    for c in word2:\n",
        "        if c in word1_list:\n",
        "            word1_list.remove(c) # (DA CHIEDERE) abbiamo messo remove per non incappare in caratteri ripetuti più volte\n",
        "        else:\n",
        "            return False\n",
        "\n",
        "    return True\n",
        "\n",
        "    #se carattere non c'è allora le parole sono palindrome e ritorniamo false\n",
        "    #Se il ciclo si completa allora le due parole confrontate sono palindrome\n",
        "\n",
        "word1 = input(\"Inserisci prima parola: \")\n",
        "word2 = input(\"Inserisci seconda parola: \")\n",
        "\n",
        "if are_anagrams(word1, word2):\n",
        "      print(f\"{word1} e {word2} sono anagrammi\")\n",
        "else:\n",
        "      print(f\"{word1} e {word2} non sono anagrammi\")\n",
        "\n",
        "\n",
        "      #MANCA L'ULTIMO ESERCIZIO CHE VEDRò DOPO\n",
        "\n",
        "\n",
        "\n",
        ""
      ],
      "metadata": {
        "colab": {
          "base_uri": "https://localhost:8080/"
        },
        "id": "wJtQ0NlPyl4n",
        "outputId": "33a86ae7-cc63-4904-bb01-43483e883d2f"
      },
      "execution_count": 5,
      "outputs": [
        {
          "output_type": "stream",
          "name": "stdout",
          "text": [
            "Inserisci prima parola: asso\n",
            "Inserisci seconda parola: ossa\n",
            "asso e ossa sono anagrammi\n"
          ]
        }
      ]
    },
    {
      "cell_type": "code",
      "source": [],
      "metadata": {
        "id": "WU_MirYgQjZf"
      },
      "execution_count": null,
      "outputs": []
    }
  ]
}